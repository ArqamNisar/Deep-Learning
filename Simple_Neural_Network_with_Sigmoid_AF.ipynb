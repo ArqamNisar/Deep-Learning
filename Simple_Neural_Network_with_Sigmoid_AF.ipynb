{
 "cells": [
  {
   "cell_type": "code",
   "execution_count": 1,
   "id": "3e7b34eb",
   "metadata": {},
   "outputs": [],
   "source": [
    "import numpy as np"
   ]
  },
  {
   "cell_type": "code",
   "execution_count": 2,
   "id": "f7c8dd65",
   "metadata": {},
   "outputs": [
    {
     "data": {
      "text/plain": [
       "array([[ 5,  6],\n",
       "       [ 4,  3],\n",
       "       [ 8, 22],\n",
       "       [32, 56]])"
      ]
     },
     "execution_count": 2,
     "metadata": {},
     "output_type": "execute_result"
    }
   ],
   "source": [
    "#Assigning Input features:\n",
    "input_values = np.array([[5,6], [4,3], [8,22], [32,56]])\n",
    "input_values.shape\n",
    "input_values"
   ]
  },
  {
   "cell_type": "code",
   "execution_count": 3,
   "id": "950f081b",
   "metadata": {},
   "outputs": [
    {
     "data": {
      "text/plain": [
       "(4, 1)"
      ]
     },
     "execution_count": 3,
     "metadata": {},
     "output_type": "execute_result"
    }
   ],
   "source": [
    "#Assign target output:\n",
    "out = np.array([1,0,0,1])\n",
    "out = out.reshape(4,1)\n",
    "out.shape"
   ]
  },
  {
   "cell_type": "code",
   "execution_count": 4,
   "id": "a5e9240e",
   "metadata": {},
   "outputs": [
    {
     "data": {
      "text/plain": [
       "array([[1],\n",
       "       [0],\n",
       "       [0],\n",
       "       [1]])"
      ]
     },
     "execution_count": 4,
     "metadata": {},
     "output_type": "execute_result"
    }
   ],
   "source": [
    "out"
   ]
  },
  {
   "cell_type": "code",
   "execution_count": 5,
   "id": "6e52ea51",
   "metadata": {},
   "outputs": [
    {
     "data": {
      "text/plain": [
       "array([[0.35],\n",
       "       [0.65]])"
      ]
     },
     "execution_count": 5,
     "metadata": {},
     "output_type": "execute_result"
    }
   ],
   "source": [
    "#Assign weights:\n",
    "weights = np.array([[0.35], [0.65]])\n",
    "weights"
   ]
  },
  {
   "cell_type": "code",
   "execution_count": 6,
   "id": "a958bf46",
   "metadata": {},
   "outputs": [],
   "source": [
    "#Adding bias:\n",
    "b = 0.045\n"
   ]
  },
  {
   "cell_type": "code",
   "execution_count": 29,
   "id": "88c23759",
   "metadata": {},
   "outputs": [
    {
     "ename": "SyntaxError",
     "evalue": "invalid syntax (1227611632.py, line 2)",
     "output_type": "error",
     "traceback": [
      "\u001b[1;36m  File \u001b[1;32m\"C:\\Users\\Arqam Nisar\\AppData\\Local\\Temp\\ipykernel_8280\\1227611632.py\"\u001b[1;36m, line \u001b[1;32m2\u001b[0m\n\u001b[1;33m    def ReLU_af(0,x):\u001b[0m\n\u001b[1;37m                ^\u001b[0m\n\u001b[1;31mSyntaxError\u001b[0m\u001b[1;31m:\u001b[0m invalid syntax\n"
     ]
    }
   ],
   "source": [
    "#Activation function:\n",
    "def ReLU_af(x):\n",
    "    return (max(0,x))"
   ]
  },
  {
   "cell_type": "code",
   "execution_count": 34,
   "id": "aa800d1f",
   "metadata": {},
   "outputs": [
    {
     "data": {
      "text/plain": [
       "0"
      ]
     },
     "execution_count": 34,
     "metadata": {},
     "output_type": "execute_result"
    }
   ],
   "source": [
    "ReLU_af(-0.3)"
   ]
  },
  {
   "cell_type": "code",
   "execution_count": 9,
   "id": "71962eee",
   "metadata": {},
   "outputs": [],
   "source": [
    "def derivative_s(x):\n",
    "    return ReLU_af_af(x) * (1-sigmoid_af(x))"
   ]
  },
  {
   "cell_type": "code",
   "execution_count": 10,
   "id": "57346920",
   "metadata": {},
   "outputs": [
    {
     "name": "stdout",
     "output_type": "stream",
     "text": [
      "[[ 9.3053877 ]\n",
      " [-4.25349697]]\n",
      "[-12.02636602]\n"
     ]
    }
   ],
   "source": [
    "#Updating the weights:\n",
    "for epochs in range(100):\n",
    "    input_array = input_values\n",
    "    \n",
    "    weightedsum = np.dot(input_array, weights) + b\n",
    "    firstoutput = sigmoid_af(weightedsum)\n",
    "    \n",
    "    error = firstoutput - out\n",
    "    total_error = np.square(np.subtract(firstoutput, out)).mean()\n",
    "    \n",
    "    first_der = error\n",
    "    second_der = derivative_s(firstoutput)\n",
    "    derivative = first_der * second_der\n",
    "    \n",
    "    t_input = input_values.T\n",
    "    final_derivative = np.dot(t_input, derivative)\n",
    "    \n",
    "    #weights:\n",
    "    weights = weights - 0.5*(final_derivative)\n",
    "    \n",
    "    #update bias:\n",
    "    for i in derivative:\n",
    "        b = b - 0.5*i\n",
    "        \n",
    "        \n",
    "        \n",
    "    \n",
    "\n",
    "print(weights)\n",
    "print(b)"
   ]
  },
  {
   "cell_type": "code",
   "execution_count": 26,
   "id": "6e34b1f9",
   "metadata": {},
   "outputs": [
    {
     "name": "stdout",
     "output_type": "stream",
     "text": [
      "[-1.12419083]\n",
      "[0.24523476]\n",
      "[0.24523476]\n"
     ]
    }
   ],
   "source": [
    "#Predictions:\n",
    "predictions = np.array([3,4])\n",
    "\n",
    "results = np.dot(predictions, weights) + b\n",
    "print(results)\n",
    "\n",
    "res = sigmoid_af(results)\n",
    "print(res)\n",
    "print(1/(1 + np.exp(-results)))"
   ]
  },
  {
   "cell_type": "code",
   "execution_count": 24,
   "id": "add2c8d9",
   "metadata": {},
   "outputs": [
    {
     "data": {
      "text/plain": [
       "array([0.24523476])"
      ]
     },
     "execution_count": 24,
     "metadata": {},
     "output_type": "execute_result"
    }
   ],
   "source": [
    "sigmoid_af(results)"
   ]
  },
  {
   "cell_type": "code",
   "execution_count": null,
   "id": "be96996e",
   "metadata": {},
   "outputs": [],
   "source": []
  }
 ],
 "metadata": {
  "kernelspec": {
   "display_name": "Python 3 (ipykernel)",
   "language": "python",
   "name": "python3"
  },
  "language_info": {
   "codemirror_mode": {
    "name": "ipython",
    "version": 3
   },
   "file_extension": ".py",
   "mimetype": "text/x-python",
   "name": "python",
   "nbconvert_exporter": "python",
   "pygments_lexer": "ipython3",
   "version": "3.9.13"
  }
 },
 "nbformat": 4,
 "nbformat_minor": 5
}
