{
 "cells": [
  {
   "cell_type": "code",
   "execution_count": 1,
   "id": "573eb86b",
   "metadata": {},
   "outputs": [],
   "source": [
    "import torch\n",
    "import torchvision\n",
    "from torchvision.datasets import MNIST\n",
    "import numpy as np"
   ]
  },
  {
   "cell_type": "code",
   "execution_count": 7,
   "id": "ca6ed466",
   "metadata": {},
   "outputs": [],
   "source": [
    "#Downloading the dataset:\n",
    "data = MNIST(root = 'data/', download=True)"
   ]
  },
  {
   "cell_type": "code",
   "execution_count": 8,
   "id": "21092b75",
   "metadata": {},
   "outputs": [
    {
     "data": {
      "text/plain": [
       "60000"
      ]
     },
     "execution_count": 8,
     "metadata": {},
     "output_type": "execute_result"
    }
   ],
   "source": [
    "len(data)"
   ]
  },
  {
   "cell_type": "code",
   "execution_count": 9,
   "id": "8468b007",
   "metadata": {},
   "outputs": [
    {
     "data": {
      "text/plain": [
       "10000"
      ]
     },
     "execution_count": 9,
     "metadata": {},
     "output_type": "execute_result"
    }
   ],
   "source": [
    "test_data = MNIST(root = 'data/', train = False)\n",
    "len(test_data)"
   ]
  },
  {
   "cell_type": "code",
   "execution_count": 10,
   "id": "7a6904c6",
   "metadata": {},
   "outputs": [
    {
     "data": {
      "text/plain": [
       "(<PIL.Image.Image image mode=L size=28x28>, 5)"
      ]
     },
     "execution_count": 10,
     "metadata": {},
     "output_type": "execute_result"
    }
   ],
   "source": [
    "data[0]"
   ]
  },
  {
   "cell_type": "code",
   "execution_count": 11,
   "id": "f65fedd2",
   "metadata": {},
   "outputs": [],
   "source": [
    "import matplotlib.pyplot as plt\n",
    "%matplotlib inline"
   ]
  },
  {
   "cell_type": "code",
   "execution_count": 12,
   "id": "72c33c2b",
   "metadata": {},
   "outputs": [
    {
     "name": "stdout",
     "output_type": "stream",
     "text": [
      "Label 0\n"
     ]
    },
    {
     "data": {
      "image/png": "[encoded data removed]",
      "text/plain": [
       "<Figure size 640x480 with 1 Axes>"
      ]
     },
     "metadata": {},
     "output_type": "display_data"
    }
   ],
   "source": [
    "image, Label = data[1]\n",
    "plt.imshow(image, cmap = 'gray')\n",
    "print(\"Label\", Label)"
   ]
  },
  {
   "cell_type": "code",
   "execution_count": 13,
   "id": "a790e39b",
   "metadata": {},
   "outputs": [],
   "source": [
    "import torchvision.transforms as transforms"
   ]
  },
  {
   "cell_type": "code",
   "execution_count": 14,
   "id": "8f6363cf",
   "metadata": {},
   "outputs": [],
   "source": [
    "data = MNIST(root  = 'data/',\n",
    "            train = True,\n",
    "            transform = transforms.ToTensor())"
   ]
  },
  {
   "cell_type": "code",
   "execution_count": 15,
   "id": "ceae2f8c",
   "metadata": {},
   "outputs": [
    {
     "data": {
      "text/plain": [
       "2"
      ]
     },
     "execution_count": 15,
     "metadata": {},
     "output_type": "execute_result"
    }
   ],
   "source": [
    "len(data[0])"
   ]
  },
  {
   "cell_type": "code",
   "execution_count": 16,
   "id": "7fe103b1",
   "metadata": {},
   "outputs": [
    {
     "name": "stdout",
     "output_type": "stream",
     "text": [
      "torch.Size([1, 28, 28]) 5\n"
     ]
    }
   ],
   "source": [
    "img_tensor, Label = data[0]\n",
    "print(img_tensor.shape, Label)"
   ]
  },
  {
   "cell_type": "code",
   "execution_count": 17,
   "id": "b2737e25",
   "metadata": {},
   "outputs": [
    {
     "name": "stdout",
     "output_type": "stream",
     "text": [
      "tensor([[[0.0039, 0.6039, 0.9922, 0.3529, 0.0000],\n",
      "         [0.0000, 0.5451, 0.9922, 0.7451, 0.0078],\n",
      "         [0.0000, 0.0431, 0.7451, 0.9922, 0.2745],\n",
      "         [0.0000, 0.0000, 0.1373, 0.9451, 0.8824],\n",
      "         [0.0000, 0.0000, 0.0000, 0.3176, 0.9412]]])\n",
      "tensor(1.) tensor(0.)\n"
     ]
    }
   ],
   "source": [
    "print(img_tensor[:, 10:15, 10:15])\n",
    "print(torch.max(img_tensor), torch.min(img_tensor))"
   ]
  },
  {
   "cell_type": "code",
   "execution_count": 18,
   "id": "4c987c54",
   "metadata": {},
   "outputs": [
    {
     "data": {
      "text/plain": [
       "(50000, 10000)"
      ]
     },
     "execution_count": 18,
     "metadata": {},
     "output_type": "execute_result"
    }
   ],
   "source": [
    "from torch.utils.data import random_split\n",
    "\n",
    "train_data, cv_data = random_split(data, [50000, 10000])\n",
    "len(train_data), len(cv_data)"
   ]
  },
  {
   "cell_type": "code",
   "execution_count": 19,
   "id": "dc36c752",
   "metadata": {},
   "outputs": [],
   "source": [
    "from torch.utils.data import DataLoader\n",
    "Batch_size = 128\n",
    "\n",
    "train_Loader = DataLoader(train_data, Batch_size, shuffle = True)\n",
    "cv_loader = DataLoader(cv_data, Batch_size)"
   ]
  },
  {
   "cell_type": "code",
   "execution_count": 67,
   "id": "a2edf657",
   "metadata": {},
   "outputs": [
    {
     "data": {
      "text/plain": [
       "<torch.utils.data.dataloader.DataLoader at 0x14f5166ab20>"
      ]
     },
     "execution_count": 67,
     "metadata": {},
     "output_type": "execute_result"
    }
   ],
   "source": [
    "cv_loader"
   ]
  },
  {
   "cell_type": "code",
   "execution_count": 20,
   "id": "6541d904",
   "metadata": {},
   "outputs": [],
   "source": [
    "import torch.nn as nn\n",
    "\n",
    "input_size = 28*28\n",
    "num_classes = 10\n",
    "\n",
    "#Logistic Regression model:\n",
    "model = nn.Linear(input_size, num_classes)"
   ]
  },
  {
   "cell_type": "code",
   "execution_count": 21,
   "id": "73b73d7a",
   "metadata": {},
   "outputs": [
    {
     "name": "stdout",
     "output_type": "stream",
     "text": [
      "torch.Size([10, 784])\n"
     ]
    }
   ],
   "source": [
    "print(model.weight.shape)"
   ]
  },
  {
   "cell_type": "code",
   "execution_count": 22,
   "id": "ed8e2bd4",
   "metadata": {},
   "outputs": [
    {
     "data": {
      "text/plain": [
       "Parameter containing:\n",
       "tensor([[-0.0305, -0.0152,  0.0162,  ...,  0.0202,  0.0273, -0.0183],\n",
       "        [ 0.0016,  0.0316,  0.0008,  ..., -0.0130,  0.0352,  0.0052],\n",
       "        [ 0.0255, -0.0299,  0.0287,  ..., -0.0344, -0.0205, -0.0128],\n",
       "        ...,\n",
       "        [-0.0038, -0.0224, -0.0160,  ..., -0.0176,  0.0166, -0.0087],\n",
       "        [ 0.0068,  0.0314,  0.0054,  ...,  0.0062,  0.0158, -0.0045],\n",
       "        [ 0.0179, -0.0020, -0.0309,  ..., -0.0098,  0.0112, -0.0213]],\n",
       "       requires_grad=True)"
      ]
     },
     "execution_count": 22,
     "metadata": {},
     "output_type": "execute_result"
    }
   ],
   "source": [
    "model.weight"
   ]
  },
  {
   "cell_type": "code",
   "execution_count": 23,
   "id": "88609035",
   "metadata": {},
   "outputs": [
    {
     "name": "stdout",
     "output_type": "stream",
     "text": [
      "torch.Size([10])\n"
     ]
    }
   ],
   "source": [
    "print(model.bias.shape)"
   ]
  },
  {
   "cell_type": "code",
   "execution_count": 24,
   "id": "835e9820",
   "metadata": {},
   "outputs": [
    {
     "name": "stdout",
     "output_type": "stream",
     "text": [
      "tensor([9, 5, 6, 2, 4, 6, 8, 0, 7, 2, 0, 6, 8, 5, 7, 2, 7, 4, 1, 4, 9, 4, 6, 7,\n",
      "        1, 3, 8, 2, 2, 6, 0, 3, 5, 9, 3, 8, 0, 0, 2, 2, 6, 7, 8, 0, 6, 7, 8, 0,\n",
      "        8, 6, 8, 0, 8, 6, 0, 6, 9, 8, 2, 4, 7, 6, 7, 7, 8, 1, 8, 7, 0, 6, 3, 4,\n",
      "        6, 8, 8, 9, 1, 0, 5, 9, 7, 9, 6, 7, 9, 0, 3, 5, 4, 0, 4, 7, 5, 9, 9, 6,\n",
      "        4, 7, 2, 0, 5, 4, 6, 3, 8, 7, 0, 7, 5, 7, 6, 1, 5, 0, 3, 9, 2, 0, 0, 7,\n",
      "        8, 8, 6, 9, 6, 3, 9, 4])\n",
      "torch.Size([128, 1, 28, 28])\n"
     ]
    },
    {
     "ename": "RuntimeError",
     "evalue": "mat1 and mat2 shapes cannot be multiplied (3584x28 and 784x10)",
     "output_type": "error",
     "traceback": [
      "\u001b[1;31m---------------------------------------------------------------------------\u001b[0m",
      "\u001b[1;31mRuntimeError\u001b[0m                              Traceback (most recent call last)",
      "\u001b[1;32m~\\AppData\\Local\\Temp\\ipykernel_6468\\1667897857.py\u001b[0m in \u001b[0;36m<module>\u001b[1;34m\u001b[0m\n\u001b[0;32m      2\u001b[0m     \u001b[0mprint\u001b[0m\u001b[1;33m(\u001b[0m\u001b[0mlabels\u001b[0m\u001b[1;33m)\u001b[0m\u001b[1;33m\u001b[0m\u001b[1;33m\u001b[0m\u001b[0m\n\u001b[0;32m      3\u001b[0m     \u001b[0mprint\u001b[0m\u001b[1;33m(\u001b[0m\u001b[0mimages\u001b[0m\u001b[1;33m.\u001b[0m\u001b[0mshape\u001b[0m\u001b[1;33m)\u001b[0m\u001b[1;33m\u001b[0m\u001b[1;33m\u001b[0m\u001b[0m\n\u001b[1;32m----> 4\u001b[1;33m     \u001b[0moutputs\u001b[0m \u001b[1;33m=\u001b[0m \u001b[0mmodel\u001b[0m\u001b[1;33m(\u001b[0m\u001b[0mimages\u001b[0m\u001b[1;33m)\u001b[0m\u001b[1;33m\u001b[0m\u001b[1;33m\u001b[0m\u001b[0m\n\u001b[0m\u001b[0;32m      5\u001b[0m     \u001b[1;32mbreak\u001b[0m\u001b[1;33m\u001b[0m\u001b[1;33m\u001b[0m\u001b[0m\n\u001b[0;32m      6\u001b[0m \u001b[1;33m\u001b[0m\u001b[0m\n",
      "\u001b[1;32m~\\anaconda3\\envs\\Pytorch\\lib\\site-packages\\torch\\nn\\modules\\module.py\u001b[0m in \u001b[0;36m_call_impl\u001b[1;34m(self, *input, **kwargs)\u001b[0m\n\u001b[0;32m   1128\u001b[0m         if not (self._backward_hooks or self._forward_hooks or self._forward_pre_hooks or _global_backward_hooks\n\u001b[0;32m   1129\u001b[0m                 or _global_forward_hooks or _global_forward_pre_hooks):\n\u001b[1;32m-> 1130\u001b[1;33m             \u001b[1;32mreturn\u001b[0m \u001b[0mforward_call\u001b[0m\u001b[1;33m(\u001b[0m\u001b[1;33m*\u001b[0m\u001b[0minput\u001b[0m\u001b[1;33m,\u001b[0m \u001b[1;33m**\u001b[0m\u001b[0mkwargs\u001b[0m\u001b[1;33m)\u001b[0m\u001b[1;33m\u001b[0m\u001b[1;33m\u001b[0m\u001b[0m\n\u001b[0m\u001b[0;32m   1131\u001b[0m         \u001b[1;31m# Do not call functions when jit is used\u001b[0m\u001b[1;33m\u001b[0m\u001b[1;33m\u001b[0m\u001b[0m\n\u001b[0;32m   1132\u001b[0m         \u001b[0mfull_backward_hooks\u001b[0m\u001b[1;33m,\u001b[0m \u001b[0mnon_full_backward_hooks\u001b[0m \u001b[1;33m=\u001b[0m \u001b[1;33m[\u001b[0m\u001b[1;33m]\u001b[0m\u001b[1;33m,\u001b[0m \u001b[1;33m[\u001b[0m\u001b[1;33m]\u001b[0m\u001b[1;33m\u001b[0m\u001b[1;33m\u001b[0m\u001b[0m\n",
      "\u001b[1;32m~\\anaconda3\\envs\\Pytorch\\lib\\site-packages\\torch\\nn\\modules\\linear.py\u001b[0m in \u001b[0;36mforward\u001b[1;34m(self, input)\u001b[0m\n\u001b[0;32m    112\u001b[0m \u001b[1;33m\u001b[0m\u001b[0m\n\u001b[0;32m    113\u001b[0m     \u001b[1;32mdef\u001b[0m \u001b[0mforward\u001b[0m\u001b[1;33m(\u001b[0m\u001b[0mself\u001b[0m\u001b[1;33m,\u001b[0m \u001b[0minput\u001b[0m\u001b[1;33m:\u001b[0m \u001b[0mTensor\u001b[0m\u001b[1;33m)\u001b[0m \u001b[1;33m->\u001b[0m \u001b[0mTensor\u001b[0m\u001b[1;33m:\u001b[0m\u001b[1;33m\u001b[0m\u001b[1;33m\u001b[0m\u001b[0m\n\u001b[1;32m--> 114\u001b[1;33m         \u001b[1;32mreturn\u001b[0m \u001b[0mF\u001b[0m\u001b[1;33m.\u001b[0m\u001b[0mlinear\u001b[0m\u001b[1;33m(\u001b[0m\u001b[0minput\u001b[0m\u001b[1;33m,\u001b[0m \u001b[0mself\u001b[0m\u001b[1;33m.\u001b[0m\u001b[0mweight\u001b[0m\u001b[1;33m,\u001b[0m \u001b[0mself\u001b[0m\u001b[1;33m.\u001b[0m\u001b[0mbias\u001b[0m\u001b[1;33m)\u001b[0m\u001b[1;33m\u001b[0m\u001b[1;33m\u001b[0m\u001b[0m\n\u001b[0m\u001b[0;32m    115\u001b[0m \u001b[1;33m\u001b[0m\u001b[0m\n\u001b[0;32m    116\u001b[0m     \u001b[1;32mdef\u001b[0m \u001b[0mextra_repr\u001b[0m\u001b[1;33m(\u001b[0m\u001b[0mself\u001b[0m\u001b[1;33m)\u001b[0m \u001b[1;33m->\u001b[0m \u001b[0mstr\u001b[0m\u001b[1;33m:\u001b[0m\u001b[1;33m\u001b[0m\u001b[1;33m\u001b[0m\u001b[0m\n",
      "\u001b[1;31mRuntimeError\u001b[0m: mat1 and mat2 shapes cannot be multiplied (3584x28 and 784x10)"
     ]
    }
   ],
   "source": [
    "for images, labels in train_Loader:\n",
    "    print(labels)\n",
    "    print(images.shape)\n",
    "    outputs = model(images)\n",
    "    break\n",
    "    "
   ]
  },
  {
   "cell_type": "code",
   "execution_count": 25,
   "id": "fb4b9362",
   "metadata": {},
   "outputs": [],
   "source": [
    "class MnistModel(nn.Module):\n",
    "    def __init__(self):\n",
    "        super().__init__()\n",
    "        self.linear = nn.Linear(input_size, num_classes)\n",
    "        \n",
    "    def forward(self, xb):\n",
    "        xb = xb.reshape(-1, 784)\n",
    "        out = self.linear(xb)\n",
    "        return out\n",
    "    \n",
    "model = MnistModel()"
   ]
  },
  {
   "cell_type": "code",
   "execution_count": 26,
   "id": "fbeda792",
   "metadata": {},
   "outputs": [
    {
     "name": "stdout",
     "output_type": "stream",
     "text": [
      "torch.Size([10, 784]) torch.Size([10])\n"
     ]
    },
    {
     "data": {
      "text/plain": [
       "[Parameter containing:\n",
       " tensor([[-1.0697e-02,  2.5643e-02, -2.6721e-02,  ..., -4.7795e-06,\n",
       "          -2.9049e-02, -5.0266e-04],\n",
       "         [-1.2058e-02, -4.1126e-03, -2.6467e-02,  ...,  1.3798e-02,\n",
       "           2.9460e-02, -3.0146e-02],\n",
       "         [-4.5284e-03, -3.2906e-02,  3.1346e-02,  ..., -1.2082e-02,\n",
       "          -2.8127e-03, -8.6573e-03],\n",
       "         ...,\n",
       "         [ 3.6536e-03,  9.5160e-03,  2.7367e-02,  ..., -1.2293e-02,\n",
       "           2.0249e-02,  1.7078e-02],\n",
       "         [ 4.3949e-03,  3.0256e-02, -3.3532e-03,  ...,  1.7292e-02,\n",
       "          -2.0095e-02, -2.8820e-02],\n",
       "         [ 9.0213e-03, -1.7038e-02, -2.5234e-03,  ..., -1.3479e-03,\n",
       "          -3.3045e-02, -1.3143e-02]], requires_grad=True),\n",
       " Parameter containing:\n",
       " tensor([ 0.0018, -0.0042, -0.0044,  0.0016, -0.0072, -0.0144, -0.0269, -0.0251,\n",
       "          0.0210,  0.0058], requires_grad=True)]"
      ]
     },
     "execution_count": 26,
     "metadata": {},
     "output_type": "execute_result"
    }
   ],
   "source": [
    "print(model.linear.weight.shape, model.linear.bias.shape)\n",
    "list(model.parameters())"
   ]
  },
  {
   "cell_type": "code",
   "execution_count": 74,
   "id": "ab401622",
   "metadata": {},
   "outputs": [
    {
     "name": "stdout",
     "output_type": "stream",
     "text": [
      "Shape of images:  torch.Size([128, 1, 28, 28])\n",
      "Shape of output:  torch.Size([128, 10])\n",
      "Sample output :\n",
      " tensor([[-1.7999e-02,  2.7310e-01, -2.1254e-01, -2.1162e-01,  9.7678e-02,\n",
      "          1.1115e-01,  6.7791e-02,  2.7002e-01, -3.0585e-01, -2.9658e-01],\n",
      "        [-3.8995e-01,  3.4958e-02,  2.2289e-01, -2.1583e-01, -3.1278e-01,\n",
      "          9.2296e-03,  4.5753e-02, -6.6014e-02, -5.7324e-01, -1.1555e-04]])\n"
     ]
    }
   ],
   "source": [
    "for images, labels in train_Loader:\n",
    "    print(\"Shape of images: \", images.shape)\n",
    "    outputs = model(images)\n",
    "    break\n",
    "    \n",
    "print('Shape of output: ', outputs.shape)\n",
    "print(\"Sample output :\\n\", outputs[:2].data )"
   ]
  },
  {
   "cell_type": "code",
   "execution_count": 28,
   "id": "d6589ffe",
   "metadata": {},
   "outputs": [
    {
     "data": {
      "text/plain": [
       "tensor([ 0.0697,  0.3166,  0.0932, -0.2329, -0.0289, -0.2159, -0.1026, -0.1949,\n",
       "         0.0709, -0.4217], grad_fn=<SelectBackward0>)"
      ]
     },
     "execution_count": 28,
     "metadata": {},
     "output_type": "execute_result"
    }
   ],
   "source": [
    "outputs[0]"
   ]
  },
  {
   "cell_type": "code",
   "execution_count": 29,
   "id": "ea58b502",
   "metadata": {},
   "outputs": [],
   "source": [
    "exps = torch.exp(outputs[0])"
   ]
  },
  {
   "cell_type": "code",
   "execution_count": 30,
   "id": "b145b5d6",
   "metadata": {},
   "outputs": [],
   "source": [
    "exps = exps / torch.sum(exps)"
   ]
  },
  {
   "cell_type": "code",
   "execution_count": 31,
   "id": "4ceb2980",
   "metadata": {},
   "outputs": [
    {
     "data": {
      "text/plain": [
       "tensor([0.1121, 0.1435, 0.1147, 0.0828, 0.1016, 0.0842, 0.0943, 0.0860, 0.1122,\n",
       "        0.0686], grad_fn=<DivBackward0>)"
      ]
     },
     "execution_count": 31,
     "metadata": {},
     "output_type": "execute_result"
    }
   ],
   "source": [
    "exps"
   ]
  },
  {
   "cell_type": "code",
   "execution_count": 32,
   "id": "1d0df507",
   "metadata": {},
   "outputs": [
    {
     "data": {
      "text/plain": [
       "tensor(1., grad_fn=<SumBackward0>)"
      ]
     },
     "execution_count": 32,
     "metadata": {},
     "output_type": "execute_result"
    }
   ],
   "source": [
    "torch.sum(exps)"
   ]
  },
  {
   "cell_type": "code",
   "execution_count": 33,
   "id": "8b2d968b",
   "metadata": {},
   "outputs": [
    {
     "name": "stdout",
     "output_type": "stream",
     "text": [
      "Softmax Probs: \n",
      " tensor([[0.1121, 0.1435, 0.1147, 0.0828, 0.1016, 0.0842, 0.0943, 0.0860, 0.1122,\n",
      "         0.0686],\n",
      "        [0.1160, 0.1123, 0.1060, 0.0984, 0.0760, 0.0766, 0.1069, 0.1080, 0.0957,\n",
      "         0.1040]])\n",
      "Sum:  1.0\n"
     ]
    }
   ],
   "source": [
    "#Apply softmax for each output row:\n",
    "import torch.nn.functional as F\n",
    "\n",
    "probs = F.softmax(outputs, dim = 1)\n",
    "\n",
    "#Look at the sample probabilities:\n",
    "print(\"Softmax Probs: \\n\", probs[:2].data)\n",
    "\n",
    "#Add up the probabilities of an output row:\n",
    "print(\"Sum: \", torch.sum(probs[0]).item())"
   ]
  },
  {
   "cell_type": "code",
   "execution_count": 34,
   "id": "928acac2",
   "metadata": {},
   "outputs": [
    {
     "name": "stdout",
     "output_type": "stream",
     "text": [
      "tensor([0.1435, 0.1160, 0.1295, 0.1233, 0.1140, 0.1491, 0.1378, 0.1381, 0.1467,\n",
      "        0.1437, 0.1090, 0.1274, 0.1178, 0.1271, 0.1149, 0.1251, 0.1281, 0.1418,\n",
      "        0.1310, 0.1707, 0.1499, 0.1181, 0.1243, 0.1726, 0.1340, 0.1363, 0.1214,\n",
      "        0.1186, 0.1257, 0.1339, 0.1288, 0.1530, 0.1187, 0.1261, 0.1316, 0.1356,\n",
      "        0.1269, 0.1413, 0.1206, 0.1325, 0.1566, 0.1242, 0.1410, 0.1275, 0.1478,\n",
      "        0.1349, 0.1219, 0.1222, 0.1085, 0.1232, 0.1693, 0.1513, 0.1532, 0.1359,\n",
      "        0.1426, 0.1287, 0.1181, 0.1568, 0.1166, 0.1223, 0.1286, 0.1388, 0.1271,\n",
      "        0.1509, 0.1759, 0.1209, 0.1270, 0.1369, 0.1355, 0.1183, 0.1182, 0.1477,\n",
      "        0.1281, 0.1235, 0.1249, 0.1647, 0.1118, 0.1526, 0.1445, 0.1471, 0.1480,\n",
      "        0.1289, 0.1267, 0.1540, 0.1140, 0.1905, 0.1263, 0.1408, 0.1333, 0.1650,\n",
      "        0.1318, 0.1293, 0.1129, 0.1262, 0.1239, 0.1266, 0.1347, 0.1335, 0.1275,\n",
      "        0.1309, 0.1433, 0.1388, 0.1176, 0.1402, 0.1223, 0.1542, 0.1597, 0.1467,\n",
      "        0.1306, 0.1438, 0.1151, 0.1408, 0.1366, 0.1525, 0.1371, 0.1179, 0.1473,\n",
      "        0.1533, 0.1206, 0.1200, 0.1179, 0.1192, 0.1198, 0.1239, 0.1149, 0.1955,\n",
      "        0.1308, 0.1194], grad_fn=<MaxBackward0>)\n",
      "tensor([1, 0, 1, 1, 1, 9, 1, 1, 1, 1, 0, 1, 6, 8, 4, 5, 9, 1, 1, 1, 9, 1, 8, 1,\n",
      "        4, 1, 9, 1, 1, 8, 6, 1, 4, 0, 1, 8, 1, 1, 9, 1, 1, 8, 1, 8, 6, 0, 8, 9,\n",
      "        5, 8, 1, 0, 1, 1, 1, 0, 1, 1, 1, 1, 8, 1, 8, 1, 1, 1, 1, 8, 0, 1, 1, 1,\n",
      "        1, 1, 8, 1, 0, 1, 1, 4, 1, 8, 9, 1, 3, 1, 1, 0, 1, 1, 1, 0, 0, 5, 6, 1,\n",
      "        4, 0, 1, 9, 1, 4, 4, 1, 1, 1, 1, 9, 9, 9, 1, 0, 0, 1, 8, 9, 4, 1, 1, 0,\n",
      "        1, 0, 2, 1, 9, 1, 6, 1])\n"
     ]
    }
   ],
   "source": [
    "max_prob, pred = torch.max(probs, dim = 1)\n",
    "\n",
    "print(max_prob)\n",
    "print(pred)"
   ]
  },
  {
   "cell_type": "code",
   "execution_count": 35,
   "id": "3bfda209",
   "metadata": {},
   "outputs": [
    {
     "data": {
      "text/plain": [
       "tensor([8, 4, 6, 9, 3, 4, 7, 7, 0, 2, 3, 5, 2, 1, 3, 3, 8, 8, 4, 0, 6, 2, 1, 0,\n",
       "        2, 0, 2, 4, 2, 2, 2, 8, 7, 3, 7, 2, 6, 0, 3, 7, 0, 2, 5, 1, 4, 4, 2, 9,\n",
       "        4, 1, 0, 0, 4, 2, 9, 1, 3, 8, 5, 7, 1, 4, 7, 0, 4, 6, 4, 1, 4, 8, 2, 0,\n",
       "        5, 4, 7, 0, 3, 0, 4, 7, 3, 1, 6, 6, 9, 0, 9, 2, 3, 9, 2, 5, 2, 3, 5, 8,\n",
       "        8, 1, 7, 4, 4, 0, 2, 9, 9, 6, 0, 9, 6, 6, 2, 6, 2, 7, 7, 3, 0, 0, 3, 6,\n",
       "        5, 5, 9, 9, 2, 0, 4, 9])"
      ]
     },
     "execution_count": 35,
     "metadata": {},
     "output_type": "execute_result"
    }
   ],
   "source": [
    "labels"
   ]
  },
  {
   "cell_type": "code",
   "execution_count": 56,
   "id": "2970fb11",
   "metadata": {},
   "outputs": [
    {
     "data": {
      "text/plain": [
       "torch.Size([128, 1, 28, 28])"
      ]
     },
     "execution_count": 56,
     "metadata": {},
     "output_type": "execute_result"
    }
   ],
   "source": [
    "images.shape"
   ]
  },
  {
   "cell_type": "code",
   "execution_count": 36,
   "id": "cc863e24",
   "metadata": {},
   "outputs": [],
   "source": [
    "def accuracy_fn(outputs, labels):\n",
    "    _, preds = torch.max(outputs, dim = 1)\n",
    "    return torch.tensor(torch.sum(preds == labels).item() / len(preds))"
   ]
  },
  {
   "cell_type": "code",
   "execution_count": 37,
   "id": "2e80ff35",
   "metadata": {},
   "outputs": [
    {
     "data": {
      "text/plain": [
       "tensor(2.3438)"
      ]
     },
     "execution_count": 37,
     "metadata": {},
     "output_type": "execute_result"
    }
   ],
   "source": [
    "accuracy = accuracy_fn(outputs, labels) * 100\n",
    "accuracy"
   ]
  },
  {
   "cell_type": "code",
   "execution_count": 38,
   "id": "79d016e1",
   "metadata": {},
   "outputs": [],
   "source": [
    "loss_fn = F.cross_entropy"
   ]
  },
  {
   "cell_type": "code",
   "execution_count": 39,
   "id": "591c6825",
   "metadata": {},
   "outputs": [
    {
     "name": "stdout",
     "output_type": "stream",
     "text": [
      "tensor(2.3415, grad_fn=<NllLossBackward0>)\n"
     ]
    }
   ],
   "source": [
    "loss = loss_fn(outputs, labels)\n",
    "print(loss)\n"
   ]
  },
  {
   "cell_type": "code",
   "execution_count": 119,
   "id": "36ecc09a",
   "metadata": {},
   "outputs": [],
   "source": [
    "class MnistModel(nn.Module):\n",
    "    def __init__(self):\n",
    "        super().__init__()\n",
    "        self.linear = nn.Linear(input_size, num_classes)\n",
    "        \n",
    "    def forward(self, xb):\n",
    "        xb = xb.reshape(-1, 784)\n",
    "        out = self.linear(xb)\n",
    "        return out\n",
    "    \n",
    "    def training_step(self, batch):\n",
    "        images, labels = batch\n",
    "        out = self(images)\n",
    "        loss = F.cross_entropy(out, labels)\n",
    "        return loss\n",
    "\n",
    "    def cv_step(self, batch):\n",
    "        images, labels = batch\n",
    "        out = self(images)\n",
    "        loss = F.cross_entropy(out, labels)\n",
    "        acc = accuracy_fn(out, labels) * 100\n",
    "        return {'cv_loss' : loss, 'cv_acc' : acc}\n",
    "\n",
    "    def cv_epoch_end(self, outputs):\n",
    "        batchlosses = [x['cv_loss'] for x in outputs]\n",
    "        epochloss = torch.stack(batchlosses).mean()\n",
    "\n",
    "        batchaccs = [x['cv_acc'] for x in outputs]\n",
    "        epochaccs = torch.stack(batchaccs).mean()\n",
    "\n",
    "        return {'cv_loss' : epochloss.item(), 'cv_acc' : epochaccs.item()}\n",
    "\n",
    "    def epoch_end(self, epoch, result):\n",
    "        print(\"Epoch[{}], cv_loss: {:.4f}, cv_acc: {:.4f}\".format(epoch, result['cv_loss'], result['cv_acc']))\n",
    "\n",
    "model = MnistModel()\n"
   ]
  },
  {
   "cell_type": "code",
   "execution_count": 120,
   "id": "92c5754b",
   "metadata": {},
   "outputs": [],
   "source": [
    "def evaluate(model, cv_loader):\n",
    "    outputs = [model.cv_step(batch) for batch in cv_loader]\n",
    "    return model.cv_epoch_end(outputs)\n",
    "\n",
    "def fit(epochs, lr, model, train_Loader, cv_loader, opt_func=torch.optim.SGD):\n",
    "    optimizer = opt_func(model.parameters(), lr)\n",
    "    history = [] # for recording epoch-wise results\n",
    "    \n",
    "    for epoch in range(epochs):\n",
    "        \n",
    "        # Training Phase \n",
    "        for batch in train_Loader:\n",
    "            loss = model.training_step(batch)\n",
    "            loss.backward()\n",
    "            optimizer.step()\n",
    "            optimizer.zero_grad()\n",
    "        \n",
    "        # Validation phase\n",
    "        result = evaluate(model, cv_loader)\n",
    "        model.epoch_end(epoch, result)\n",
    "        history.append(result)\n",
    "\n",
    "    return history\n"
   ]
  },
  {
   "cell_type": "code",
   "execution_count": 121,
   "id": "48966ab0",
   "metadata": {},
   "outputs": [],
   "source": [
    "result = evaluate(model, cv_loader)"
   ]
  },
  {
   "cell_type": "code",
   "execution_count": 122,
   "id": "8a560936",
   "metadata": {},
   "outputs": [
    {
     "data": {
      "text/plain": [
       "{'cv_loss': 2.332798719406128, 'cv_acc': 8.969541549682617}"
      ]
     },
     "execution_count": 122,
     "metadata": {},
     "output_type": "execute_result"
    }
   ],
   "source": [
    "result"
   ]
  },
  {
   "cell_type": "code",
   "execution_count": 123,
   "id": "93a6005d",
   "metadata": {},
   "outputs": [
    {
     "name": "stdout",
     "output_type": "stream",
     "text": [
      "Epoch[0], cv_loss: 0.8967, cv_acc: 82.7037\n",
      "Epoch[1], cv_loss: 0.6744, cv_acc: 85.1760\n",
      "Epoch[2], cv_loss: 0.5848, cv_acc: 86.1452\n",
      "Epoch[3], cv_loss: 0.5342, cv_acc: 87.0352\n",
      "Epoch[4], cv_loss: 0.5013, cv_acc: 87.5593\n"
     ]
    }
   ],
   "source": [
    "h1 = fit(5, 0.01, model, train_Loader, cv_loader)"
   ]
  },
  {
   "cell_type": "code",
   "execution_count": 124,
   "id": "064c41b5",
   "metadata": {},
   "outputs": [
    {
     "data": {
      "text/plain": [
       "Text(0.5, 1.0, 'Accuracy vs No. of Epochs')"
      ]
     },
     "execution_count": 124,
     "metadata": {},
     "output_type": "execute_result"
    },
    {
     "data": {
      "image/png": "[encoded data removed]",
      "text/plain": [
       "<Figure size 640x480 with 1 Axes>"
      ]
     },
     "metadata": {},
     "output_type": "display_data"
    }
   ],
   "source": [
    "history = [result] + h1\n",
    "\n",
    "accuracies = [result['cv_acc'] for result in history]\n",
    "\n",
    "plt.plot(accuracies,'-x')\n",
    "plt.xlabel('epoch')\n",
    "plt.ylabel('accuracy')\n",
    "plt.title('Accuracy vs No. of Epochs')"
   ]
  },
  {
   "cell_type": "code",
   "execution_count": 131,
   "id": "bce38222",
   "metadata": {},
   "outputs": [
    {
     "name": "stdout",
     "output_type": "stream",
     "text": [
      "Shape:  torch.Size([1, 28, 28])\n",
      "Label:  2\n"
     ]
    },
    {
     "data": {
      "image/png": "[encoded data removed]",
      "text/plain": [
       "<Figure size 640x480 with 1 Axes>"
      ]
     },
     "metadata": {},
     "output_type": "display_data"
    }
   ],
   "source": [
    "test_data = MNIST(root = 'data/', train = False, transform = transforms.ToTensor())\n",
    "\n",
    "img, label = test_data[1]\n",
    "plt.imshow(img[0], cmap = 'gray')\n",
    "print('Shape: ', img.shape)\n",
    "print('Label: ', label)"
   ]
  },
  {
   "cell_type": "code",
   "execution_count": 132,
   "id": "a64b1ed8",
   "metadata": {},
   "outputs": [],
   "source": [
    "def predict_image(img, model):\n",
    "    xb = img.unsqueeze(0)\n",
    "    yb = model(xb)\n",
    "    _, preds = torch.max(yb, dim = 1)\n",
    "    return preds[0].item()"
   ]
  },
  {
   "cell_type": "code",
   "execution_count": 137,
   "id": "ec07c13e",
   "metadata": {},
   "outputs": [
    {
     "name": "stdout",
     "output_type": "stream",
     "text": [
      "Original Label:  2 \n",
      "Predicted label:  2\n"
     ]
    }
   ],
   "source": [
    "print('Original Label: ', label, '\\nPredicted label: ', predict_image(img, model))"
   ]
  },
  {
   "cell_type": "code",
   "execution_count": 144,
   "id": "64315eee",
   "metadata": {},
   "outputs": [
    {
     "data": {
      "text/plain": [
       "{'cv_loss': 0.4677812159061432, 'cv_acc': 88.134765625}"
      ]
     },
     "execution_count": 144,
     "metadata": {},
     "output_type": "execute_result"
    }
   ],
   "source": [
    "test_loader = DataLoader(test_data, batch_size = 256)\n",
    "result = evaluate(model, test_loader)\n",
    "result"
   ]
  },
  {
   "cell_type": "code",
   "execution_count": 145,
   "id": "8788d037",
   "metadata": {},
   "outputs": [],
   "source": [
    "torch.save(model.state_dict(), 'mnist_log.pth')"
   ]
  },
  {
   "cell_type": "code",
   "execution_count": 146,
   "id": "5be31792",
   "metadata": {},
   "outputs": [
    {
     "data": {
      "text/plain": [
       "OrderedDict([('linear.weight',\n",
       "              tensor([[ 0.0050,  0.0062,  0.0042,  ...,  0.0078, -0.0302, -0.0014],\n",
       "                      [ 0.0222, -0.0040,  0.0269,  ..., -0.0149, -0.0015, -0.0312],\n",
       "                      [-0.0295,  0.0322,  0.0338,  ..., -0.0083, -0.0311, -0.0149],\n",
       "                      ...,\n",
       "                      [ 0.0334, -0.0281,  0.0244,  ..., -0.0180,  0.0337, -0.0038],\n",
       "                      [ 0.0025, -0.0195, -0.0139,  ..., -0.0039, -0.0208,  0.0271],\n",
       "                      [ 0.0128,  0.0016,  0.0296,  ...,  0.0163, -0.0272, -0.0187]])),\n",
       "             ('linear.bias',\n",
       "              tensor([-0.0941,  0.1281, -0.0067, -0.0522,  0.0126,  0.1020, -0.0323,  0.0552,\n",
       "                      -0.1850, -0.0619]))])"
      ]
     },
     "execution_count": 146,
     "metadata": {},
     "output_type": "execute_result"
    }
   ],
   "source": [
    "model2 = MnistModel()\n",
    "model2.load_state_dict(torch.load('mnist_log.pth'))\n",
    "model2.state_dict()"
   ]
  },
  {
   "cell_type": "code",
   "execution_count": 147,
   "id": "d798faf2",
   "metadata": {},
   "outputs": [
    {
     "data": {
      "text/plain": [
       "{'cv_loss': 0.4677812159061432, 'cv_acc': 88.134765625}"
      ]
     },
     "execution_count": 147,
     "metadata": {},
     "output_type": "execute_result"
    }
   ],
   "source": [
    "test_loader = DataLoader(test_data, batch_size = 256)\n",
    "result = evaluate(model2, test_loader)\n",
    "result"
   ]
  },
  {
   "cell_type": "code",
   "execution_count": null,
   "id": "fc4fa6eb",
   "metadata": {},
   "outputs": [],
   "source": []
  }
 ],
 "metadata": {
  "kernelspec": {
   "display_name": "Python 3 (ipykernel)",
   "language": "python",
   "name": "python3"
  },
  "language_info": {
   "codemirror_mode": {
    "name": "ipython",
    "version": 3
   },
   "file_extension": ".py",
   "mimetype": "text/x-python",
   "name": "python",
   "nbconvert_exporter": "python",
   "pygments_lexer": "ipython3",
   "version": "3.9.13"
  }
 },
 "nbformat": 4,
 "nbformat_minor": 5
}
