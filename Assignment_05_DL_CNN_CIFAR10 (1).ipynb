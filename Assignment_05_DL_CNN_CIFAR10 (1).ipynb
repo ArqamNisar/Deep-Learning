{
  "nbformat": 4,
  "nbformat_minor": 0,
  "metadata": {
    "colab": {
      "provenance": []
    },
    "kernelspec": {
      "name": "python3",
      "display_name": "Python 3"
    },
    "language_info": {
      "name": "python"
    },
    "accelerator": "GPU",
    "gpuClass": "standard"
  },
  "cells": [
    {
      "cell_type": "code",
      "execution_count": 1,
      "metadata": {
        "id": "X3RtD26lunEJ"
      },
      "outputs": [],
      "source": [
        "from keras.models import Sequential\n",
        "from keras.layers import Dense, Conv2D, MaxPooling2D, Dropout, Flatten\n",
        "\n",
        "from keras.optimizers import Adam\n",
        "from keras.callbacks import Callback\n",
        "\n",
        "from keras.utils import np_utils\n",
        "from keras.datasets import cifar10\n",
        "\n",
        "import numpy as np\n",
        "import matplotlib.pyplot as plt\n",
        "\n",
        "from google.colab import files\n",
        "\n",
        "from keras import backend as K\n",
        "K.set_image_data_format('channels_last')\n",
        "\n"
      ]
    },
    {
      "cell_type": "code",
      "source": [
        "import matplotlib as mlp\n",
        "mlp.style.use('classic')"
      ],
      "metadata": {
        "id": "FYLVfze_uvxI"
      },
      "execution_count": 2,
      "outputs": []
    },
    {
      "cell_type": "code",
      "source": [
        "(X_train, Y_train), (X_test, Y_test) = cifar10.load_data()\n",
        "X_train = X_train.astype('float32')\n",
        "X_test = X_test.astype('float32')"
      ],
      "metadata": {
        "id": "LK5L0li8QPQA"
      },
      "execution_count": 3,
      "outputs": []
    },
    {
      "cell_type": "code",
      "source": [
        "mean = np.mean(X_train, axis = (0,1,2,3))\n",
        "std = np.std(X_train, axis = (0,1,2,3))\n",
        "X_train = (X_train - mean) / (std + 1e-7)\n",
        "X_test = (X_test - mean) / (std + 1e-7)\n"
      ],
      "metadata": {
        "id": "Rs7mYEr8QRdQ"
      },
      "execution_count": 4,
      "outputs": []
    },
    {
      "cell_type": "code",
      "source": [
        "X_train.shape"
      ],
      "metadata": {
        "colab": {
          "base_uri": "https://localhost:8080/"
        },
        "id": "GgVMZKaARhpA",
        "outputId": "c4d8e186-d568-478d-e100-c1137ad06599"
      },
      "execution_count": 5,
      "outputs": [
        {
          "output_type": "execute_result",
          "data": {
            "text/plain": [
              "(50000, 32, 32, 3)"
            ]
          },
          "metadata": {},
          "execution_count": 5
        }
      ]
    },
    {
      "cell_type": "code",
      "source": [
        "Classes = 10\n",
        "Y_train = np_utils.to_categorical(Y_train, Classes)\n",
        "Y_test = np_utils.to_categorical(Y_test, Classes)"
      ],
      "metadata": {
        "id": "d96mz7MfRkp3"
      },
      "execution_count": 6,
      "outputs": []
    },
    {
      "cell_type": "code",
      "source": [
        "from sklearn.model_selection import train_test_split\n",
        "X_train, X_val, Y_train, Y_val = train_test_split(X_train, Y_train, test_size = 0.2, random_state = 42)"
      ],
      "metadata": {
        "id": "JL3ksTDnLsnb"
      },
      "execution_count": 7,
      "outputs": []
    },
    {
      "cell_type": "code",
      "source": [
        "print(X_train.shape)\n",
        "print(X_val.shape)"
      ],
      "metadata": {
        "colab": {
          "base_uri": "https://localhost:8080/"
        },
        "id": "vOe3lOrQR-V8",
        "outputId": "8fabcf0d-9bfa-4e8d-8402-a23e37c3c32c"
      },
      "execution_count": 8,
      "outputs": [
        {
          "output_type": "stream",
          "name": "stdout",
          "text": [
            "(40000, 32, 32, 3)\n",
            "(10000, 32, 32, 3)\n"
          ]
        }
      ]
    },
    {
      "cell_type": "code",
      "source": [
        "Y_test[0]"
      ],
      "metadata": {
        "colab": {
          "base_uri": "https://localhost:8080/"
        },
        "id": "WW7EvdrXy8V6",
        "outputId": "71099976-211c-4342-bec7-b65524f75f62"
      },
      "execution_count": 9,
      "outputs": [
        {
          "output_type": "execute_result",
          "data": {
            "text/plain": [
              "array([0., 0., 0., 1., 0., 0., 0., 0., 0., 0.], dtype=float32)"
            ]
          },
          "metadata": {},
          "execution_count": 9
        }
      ]
    },
    {
      "cell_type": "markdown",
      "source": [
        "**Convolutional Neural Network:**"
      ],
      "metadata": {
        "id": "L05OlXSdSlW6"
      }
    },
    {
      "cell_type": "markdown",
      "source": [
        "**Model Creation:**"
      ],
      "metadata": {
        "id": "DFbgFqhSS2UR"
      }
    },
    {
      "cell_type": "code",
      "source": [
        "input_shape = (32, 32, 3)"
      ],
      "metadata": {
        "id": "3mrhI5Y9S9-R"
      },
      "execution_count": 10,
      "outputs": []
    },
    {
      "cell_type": "code",
      "source": [
        "def Model():\n",
        "  model = Sequential()\n",
        "  model.add(Conv2D(32, (3, 3), padding = 'same', activation = 'relu', input_shape = input_shape))\n",
        "  model.add(Conv2D(32, (3,3), activation = 'relu'))\n",
        "  model.add(MaxPooling2D(pool_size = (2, 2)))\n",
        "  model.add(Dropout(0.4))\n",
        "\n",
        "  model.add(Conv2D(64, (3, 3), padding = 'same', activation = 'relu'))\n",
        "  model.add(Conv2D(64, (3, 3), activation = 'relu'))\n",
        "  model.add(MaxPooling2D(pool_size = (2, 2)))\n",
        "  model.add(Dropout(0.4))\n",
        "\n",
        "  model.add(Conv2D(64, (3, 3), padding = 'same', activation = 'relu'))\n",
        "  model.add(Conv2D(64, (3, 3), activation = 'relu'))\n",
        "  model.add(MaxPooling2D(pool_size = (2, 2)))\n",
        "  model.add(Dropout(0.4))\n",
        "\n",
        "  model.add(Flatten())\n",
        "  model.add(Dense(512, activation = 'relu'))\n",
        "  model.add(Dropout(0.5))\n",
        "  model.add(Dense(Classes, activation = 'softmax'))\n",
        "  \n",
        "\n",
        "  return model"
      ],
      "metadata": {
        "id": "Xj7A0NhFTCJM"
      },
      "execution_count": 11,
      "outputs": []
    },
    {
      "cell_type": "code",
      "source": [
        "K.clear_session()\n",
        "model = Model()"
      ],
      "metadata": {
        "id": "IOehVI9vVmFr"
      },
      "execution_count": 12,
      "outputs": []
    },
    {
      "cell_type": "code",
      "source": [
        "#Optimizer:\n",
        "AdamOptimizer = Adam(learning_rate  = 0.001)\n",
        "model.compile(optimizer = AdamOptimizer, loss = 'categorical_crossentropy', metrics = ['accuracy'])"
      ],
      "metadata": {
        "id": "QrH7XgitVsCU"
      },
      "execution_count": 13,
      "outputs": []
    },
    {
      "cell_type": "code",
      "source": [
        "model.summary()"
      ],
      "metadata": {
        "colab": {
          "base_uri": "https://localhost:8080/"
        },
        "id": "O5NhYTi-Wah5",
        "outputId": "9c212bc4-c210-4d14-b7bb-c7b9404ae576"
      },
      "execution_count": 14,
      "outputs": [
        {
          "output_type": "stream",
          "name": "stdout",
          "text": [
            "Model: \"sequential\"\n",
            "_________________________________________________________________\n",
            " Layer (type)                Output Shape              Param #   \n",
            "=================================================================\n",
            " conv2d (Conv2D)             (None, 32, 32, 32)        896       \n",
            "                                                                 \n",
            " conv2d_1 (Conv2D)           (None, 30, 30, 32)        9248      \n",
            "                                                                 \n",
            " max_pooling2d (MaxPooling2D  (None, 15, 15, 32)       0         \n",
            " )                                                               \n",
            "                                                                 \n",
            " dropout (Dropout)           (None, 15, 15, 32)        0         \n",
            "                                                                 \n",
            " conv2d_2 (Conv2D)           (None, 15, 15, 64)        18496     \n",
            "                                                                 \n",
            " conv2d_3 (Conv2D)           (None, 13, 13, 64)        36928     \n",
            "                                                                 \n",
            " max_pooling2d_1 (MaxPooling  (None, 6, 6, 64)         0         \n",
            " 2D)                                                             \n",
            "                                                                 \n",
            " dropout_1 (Dropout)         (None, 6, 6, 64)          0         \n",
            "                                                                 \n",
            " conv2d_4 (Conv2D)           (None, 6, 6, 64)          36928     \n",
            "                                                                 \n",
            " conv2d_5 (Conv2D)           (None, 4, 4, 64)          36928     \n",
            "                                                                 \n",
            " max_pooling2d_2 (MaxPooling  (None, 2, 2, 64)         0         \n",
            " 2D)                                                             \n",
            "                                                                 \n",
            " dropout_2 (Dropout)         (None, 2, 2, 64)          0         \n",
            "                                                                 \n",
            " flatten (Flatten)           (None, 256)               0         \n",
            "                                                                 \n",
            " dense (Dense)               (None, 512)               131584    \n",
            "                                                                 \n",
            " dropout_3 (Dropout)         (None, 512)               0         \n",
            "                                                                 \n",
            " dense_1 (Dense)             (None, 10)                5130      \n",
            "                                                                 \n",
            "=================================================================\n",
            "Total params: 276,138\n",
            "Trainable params: 276,138\n",
            "Non-trainable params: 0\n",
            "_________________________________________________________________\n"
          ]
        }
      ]
    },
    {
      "cell_type": "code",
      "source": [
        "class CustomCallBack(Callback):\n",
        "  def on_epoch_end(self, epoch, logs = {}):\n",
        "    if (epoch %5 == 0):\n",
        "      print('Just finished epoch: ', epoch)\n",
        "      print('----------------------------------')\n",
        "      print('Loss on the validation dataset = ', logs.get('val_loss'))\n",
        "      print('Accuracy reached train is', logs.get('accuracy'))\n",
        "      print('Accuracy reached val  is', logs.get('val_accuracy'))\n",
        "      return      "
      ],
      "metadata": {
        "id": "eEjZYy8SWy9g"
      },
      "execution_count": 15,
      "outputs": []
    },
    {
      "cell_type": "markdown",
      "source": [
        "**Training:**"
      ],
      "metadata": {
        "id": "8bD1eT-MgLVy"
      }
    },
    {
      "cell_type": "code",
      "source": [],
      "metadata": {
        "id": "_q2F_dRSoFea"
      },
      "execution_count": 15,
      "outputs": []
    },
    {
      "cell_type": "code",
      "source": [
        "batch_size = 256\n",
        "epochs = 50\n",
        "\n",
        "CC = CustomCallBack()\n",
        "history = model.fit(X_train, Y_train, batch_size = batch_size, epochs = epochs,\n",
        "                    verbose = 0,\n",
        "                    validation_data = (X_val, Y_val),\n",
        "                    callbacks = [CC])\n",
        "  "
      ],
      "metadata": {
        "colab": {
          "base_uri": "https://localhost:8080/"
        },
        "id": "SIqG81E8f1he",
        "outputId": "ca6a893a-4a95-457d-e527-c7389f701ac1"
      },
      "execution_count": 16,
      "outputs": [
        {
          "output_type": "stream",
          "name": "stdout",
          "text": [
            "Just finished epoch:  0\n",
            "----------------------------------\n",
            "Loss on the validation dataset =  1.6650513410568237\n",
            "Accuracy reached train is 0.2586750090122223\n",
            "Accuracy reached val  is 0.36500000953674316\n",
            "Just finished epoch:  5\n",
            "----------------------------------\n",
            "Loss on the validation dataset =  0.9619793891906738\n",
            "Accuracy reached train is 0.6112250089645386\n",
            "Accuracy reached val  is 0.6518999934196472\n",
            "Just finished epoch:  10\n",
            "----------------------------------\n",
            "Loss on the validation dataset =  0.8429039120674133\n",
            "Accuracy reached train is 0.690850019454956\n",
            "Accuracy reached val  is 0.7032999992370605\n",
            "Just finished epoch:  15\n",
            "----------------------------------\n",
            "Loss on the validation dataset =  0.7434350848197937\n",
            "Accuracy reached train is 0.7307999730110168\n",
            "Accuracy reached val  is 0.7387999892234802\n",
            "Just finished epoch:  20\n",
            "----------------------------------\n",
            "Loss on the validation dataset =  0.7029545307159424\n",
            "Accuracy reached train is 0.7530999779701233\n",
            "Accuracy reached val  is 0.7548999786376953\n",
            "Just finished epoch:  25\n",
            "----------------------------------\n",
            "Loss on the validation dataset =  0.6133580803871155\n",
            "Accuracy reached train is 0.7661749720573425\n",
            "Accuracy reached val  is 0.7911999821662903\n",
            "Just finished epoch:  30\n",
            "----------------------------------\n",
            "Loss on the validation dataset =  0.5948137044906616\n",
            "Accuracy reached train is 0.7807499766349792\n",
            "Accuracy reached val  is 0.7937999963760376\n",
            "Just finished epoch:  35\n",
            "----------------------------------\n",
            "Loss on the validation dataset =  0.5823532342910767\n",
            "Accuracy reached train is 0.7936499714851379\n",
            "Accuracy reached val  is 0.7975999712944031\n",
            "Just finished epoch:  40\n",
            "----------------------------------\n",
            "Loss on the validation dataset =  0.597229540348053\n",
            "Accuracy reached train is 0.7996500134468079\n",
            "Accuracy reached val  is 0.7973999977111816\n",
            "Just finished epoch:  45\n",
            "----------------------------------\n",
            "Loss on the validation dataset =  0.5631794929504395\n",
            "Accuracy reached train is 0.8051999807357788\n",
            "Accuracy reached val  is 0.809499979019165\n"
          ]
        }
      ]
    },
    {
      "cell_type": "code",
      "source": [
        "#Training and Validation Loss Plots:\n",
        "plt.figure(figsize = [6,6])\n",
        "plt.plot(history.history['loss'], 'black', linewidth = 3)\n",
        "plt.plot(history.history['val_loss'], 'black',ls = '--',  linewidth = 3)\n",
        "plt.legend(['Training Loss', 'Validation Loss'], fontsize = 20)\n",
        "plt.xlabel('Epochs', fontsize = 16)\n",
        "plt.ylabel('Loss', fontsize = 16)\n",
        "plt.title('Loss Curves', fontsize = 18)"
      ],
      "metadata": {
        "colab": {
          "base_uri": "https://localhost:8080/",
          "height": 495
        },
        "id": "V72rw1CIgKO-",
        "outputId": "722753e8-eed5-45ff-bbbe-42d8d4b21bbf"
      },
      "execution_count": 17,
      "outputs": [
        {
          "output_type": "execute_result",
          "data": {
            "text/plain": [
              "Text(0.5, 1.0, 'Loss Curves')"
            ]
          },
          "metadata": {},
          "execution_count": 17
        },
        {
          "output_type": "display_data",
          "data": {
            "text/plain": [
              "<Figure size 480x480 with 1 Axes>"
            ],
            "image/png": "[encoded data removed]"
          },
          "metadata": {}
        }
      ]
    },
    {
      "cell_type": "markdown",
      "source": [
        "**Testing:**"
      ],
      "metadata": {
        "id": "lfnv4RewtdZl"
      }
    },
    {
      "cell_type": "code",
      "source": [
        "test_loss, test_acc = model.evaluate(X_test,  Y_test, verbose=2)\n"
      ],
      "metadata": {
        "colab": {
          "base_uri": "https://localhost:8080/"
        },
        "id": "TjJDUeDkkd6e",
        "outputId": "28698722-9ca8-4114-a50e-f542470d70f3"
      },
      "execution_count": 18,
      "outputs": [
        {
          "output_type": "stream",
          "name": "stdout",
          "text": [
            "313/313 - 1s - loss: 0.5911 - accuracy: 0.8026 - 855ms/epoch - 3ms/step\n"
          ]
        }
      ]
    },
    {
      "cell_type": "code",
      "source": [
        "A = model.predict(X_test[10:20])\n",
        "predictions = np.argmax(A, axis = 1)\n",
        "print(\"Actual Label of Image\", Y_test[10:20])\n",
        "print(\"Predicted Label of Image\", predictions)"
      ],
      "metadata": {
        "colab": {
          "base_uri": "https://localhost:8080/"
        },
        "id": "axJdAiq9uVbm",
        "outputId": "a0c77190-ff2c-4e79-d2bf-41107f0f20f1"
      },
      "execution_count": 19,
      "outputs": [
        {
          "output_type": "stream",
          "name": "stdout",
          "text": [
            "1/1 [==============================] - 0s 177ms/step\n",
            "Actual Label of Image [[1. 0. 0. 0. 0. 0. 0. 0. 0. 0.]\n",
            " [0. 0. 0. 0. 0. 0. 0. 0. 0. 1.]\n",
            " [0. 0. 0. 0. 0. 1. 0. 0. 0. 0.]\n",
            " [0. 0. 0. 0. 0. 0. 0. 1. 0. 0.]\n",
            " [0. 0. 0. 0. 0. 0. 0. 0. 0. 1.]\n",
            " [0. 0. 0. 0. 0. 0. 0. 0. 1. 0.]\n",
            " [0. 0. 0. 0. 0. 1. 0. 0. 0. 0.]\n",
            " [0. 0. 0. 0. 0. 0. 0. 1. 0. 0.]\n",
            " [0. 0. 0. 0. 0. 0. 0. 0. 1. 0.]\n",
            " [0. 0. 0. 0. 0. 0. 1. 0. 0. 0.]]\n",
            "Predicted Label of Image [8 9 4 7 9 6 5 7 8 6]\n"
          ]
        }
      ]
    },
    {
      "cell_type": "code",
      "source": [],
      "metadata": {
        "id": "eaGvlbrcNS4H"
      },
      "execution_count": 19,
      "outputs": []
    }
  ]
}