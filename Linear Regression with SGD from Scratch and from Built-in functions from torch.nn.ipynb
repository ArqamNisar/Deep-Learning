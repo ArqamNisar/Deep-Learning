{
 "cells": [
  {
   "cell_type": "code",
   "execution_count": 1,
   "id": "8e1d0e97",
   "metadata": {},
   "outputs": [],
   "source": [
    "import numpy as np\n",
    "import torch"
   ]
  },
  {
   "cell_type": "markdown",
   "id": "53c3823a",
   "metadata": {},
   "source": [
    "# Training Data"
   ]
  },
  {
   "cell_type": "code",
   "execution_count": 3,
   "id": "10b67c4f",
   "metadata": {},
   "outputs": [],
   "source": [
    "# Input: Temperature, Rainfall and Humidity\n",
    "\n",
    "inputs = np.array([[73, 67, 43],\n",
    "                   [91, 88, 64],\n",
    "                   [87, 134, 58],\n",
    "                   [102, 43, 37],\n",
    "                   [69, 96, 70]], dtype = 'float32')"
   ]
  },
  {
   "cell_type": "code",
   "execution_count": 4,
   "id": "0de3e211",
   "metadata": {},
   "outputs": [],
   "source": [
    "#Target variables (Apples, Oranges):\n",
    "\n",
    "targets = np.array([[56, 70],\n",
    "                   [81, 101],\n",
    "                   [119, 133],\n",
    "                   [22, 37],\n",
    "                   [103, 119]], dtype='float32')\n"
   ]
  },
  {
   "cell_type": "code",
   "execution_count": 5,
   "id": "f96a5dd4",
   "metadata": {},
   "outputs": [
    {
     "name": "stdout",
     "output_type": "stream",
     "text": [
      "tensor([[ 56.,  70.],\n",
      "        [ 81., 101.],\n",
      "        [119., 133.],\n",
      "        [ 22.,  37.],\n",
      "        [103., 119.]])\n",
      "tensor([[ 73.,  67.,  43.],\n",
      "        [ 91.,  88.,  64.],\n",
      "        [ 87., 134.,  58.],\n",
      "        [102.,  43.,  37.],\n",
      "        [ 69.,  96.,  70.]])\n"
     ]
    }
   ],
   "source": [
    "#Convert inputs and targets to tensors:\n",
    "inputs = torch.from_numpy(inputs)\n",
    "\n",
    "targets = torch.from_numpy(targets)\n",
    "\n",
    "print(targets)\n",
    "print(inputs)"
   ]
  },
  {
   "cell_type": "markdown",
   "id": "7fda8a28",
   "metadata": {},
   "source": [
    "# Linear Regression from Scratch:"
   ]
  },
  {
   "cell_type": "code",
   "execution_count": 6,
   "id": "96803c41",
   "metadata": {},
   "outputs": [
    {
     "name": "stdout",
     "output_type": "stream",
     "text": [
      "tensor([[-0.2928, -1.5792, -0.5304],\n",
      "        [ 2.5737,  1.2439,  1.8113]], requires_grad=True)\n",
      "tensor([0.2256, 3.3572], requires_grad=True)\n"
     ]
    }
   ],
   "source": [
    "#Weights and biases:\n",
    "wt = torch.randn(2, 3, requires_grad=True)\n",
    "\n",
    "bi = torch.randn(2, requires_grad=True)\n",
    "\n",
    "print(wt)\n",
    "print(bi)"
   ]
  },
  {
   "cell_type": "code",
   "execution_count": 11,
   "id": "b04388c6",
   "metadata": {},
   "outputs": [],
   "source": [
    "def model(x):\n",
    "    return x@wt.t() + bi"
   ]
  },
  {
   "cell_type": "code",
   "execution_count": 12,
   "id": "13302a39",
   "metadata": {},
   "outputs": [
    {
     "name": "stdout",
     "output_type": "stream",
     "text": [
      "tensor([[-149.7638,  352.4663],\n",
      "        [-199.3361,  462.9525],\n",
      "        [-267.6249,  499.0085],\n",
      "        [-117.1730,  386.3837],\n",
      "        [-208.7097,  427.1490]], grad_fn=<AddBackward0>)\n"
     ]
    }
   ],
   "source": [
    "#Generate Predictions:\n",
    "pred = model(inputs)\n",
    "print(pred)"
   ]
  },
  {
   "cell_type": "code",
   "execution_count": 13,
   "id": "3b7d73b2",
   "metadata": {},
   "outputs": [
    {
     "name": "stdout",
     "output_type": "stream",
     "text": [
      "tensor([[ 56.,  70.],\n",
      "        [ 81., 101.],\n",
      "        [119., 133.],\n",
      "        [ 22.,  37.],\n",
      "        [103., 119.]])\n"
     ]
    }
   ],
   "source": [
    "#Compare the targets:\n",
    "print (targets)"
   ]
  },
  {
   "cell_type": "code",
   "execution_count": 15,
   "id": "75edcbfb",
   "metadata": {},
   "outputs": [
    {
     "data": {
      "text/plain": [
       "tensor(94872.1719, grad_fn=<DivBackward0>)"
      ]
     },
     "execution_count": 15,
     "metadata": {},
     "output_type": "execute_result"
    }
   ],
   "source": [
    "diff = pred - targets\n",
    "torch.sum(diff*diff)/diff.numel()"
   ]
  },
  {
   "cell_type": "code",
   "execution_count": 16,
   "id": "14569635",
   "metadata": {},
   "outputs": [],
   "source": [
    "#MSE Loss:\n",
    "def mse(t1, t2):\n",
    "    diff = t1 -t2\n",
    "    return torch.sum(diff*diff)/diff.numel()"
   ]
  },
  {
   "cell_type": "code",
   "execution_count": 17,
   "id": "dba9bfbd",
   "metadata": {},
   "outputs": [
    {
     "name": "stdout",
     "output_type": "stream",
     "text": [
      "tensor(94872.1719, grad_fn=<DivBackward0>)\n"
     ]
    }
   ],
   "source": [
    "#Compute loss:\n",
    "loss = mse(pred, targets)\n",
    "print(loss)"
   ]
  },
  {
   "cell_type": "markdown",
   "id": "43c1ff24",
   "metadata": {},
   "source": [
    "\n",
    "# Compute Gradients:"
   ]
  },
  {
   "cell_type": "code",
   "execution_count": 18,
   "id": "762c87e7",
   "metadata": {},
   "outputs": [],
   "source": [
    "#Compute Gradients:\n",
    "loss.backward()"
   ]
  },
  {
   "cell_type": "code",
   "execution_count": 20,
   "id": "87178d32",
   "metadata": {},
   "outputs": [
    {
     "name": "stdout",
     "output_type": "stream",
     "text": [
      "tensor([[-0.2928, -1.5792, -0.5304],\n",
      "        [ 2.5737,  1.2439,  1.8113]], requires_grad=True)\n",
      "tensor([[-21974.2617, -25234.4082, -15236.5332],\n",
      "        [ 28459.9746,  28885.6016,  18207.4258]])\n"
     ]
    }
   ],
   "source": [
    "print(wt)\n",
    "print(wt.grad)"
   ]
  },
  {
   "cell_type": "code",
   "execution_count": 22,
   "id": "dcc15f3d",
   "metadata": {},
   "outputs": [
    {
     "name": "stdout",
     "output_type": "stream",
     "text": [
      "tensor([[0., 0., 0.],\n",
      "        [0., 0., 0.]])\n",
      "tensor([0., 0.])\n"
     ]
    }
   ],
   "source": [
    "#Settings weights and biases to zero:\n",
    "wt.grad.zero_()\n",
    "bi.grad.zero_()\n",
    "print(wt.grad)\n",
    "print(bi.grad)"
   ]
  },
  {
   "cell_type": "markdown",
   "id": "3879278d",
   "metadata": {},
   "source": [
    "# Adjust weights and biases by using Gradient Descent Approach:"
   ]
  },
  {
   "cell_type": "code",
   "execution_count": 23,
   "id": "0dd5a545",
   "metadata": {},
   "outputs": [
    {
     "name": "stdout",
     "output_type": "stream",
     "text": [
      "tensor([[-149.7638,  352.4663],\n",
      "        [-199.3361,  462.9525],\n",
      "        [-267.6249,  499.0085],\n",
      "        [-117.1730,  386.3837],\n",
      "        [-208.7097,  427.1490]], grad_fn=<AddBackward0>)\n"
     ]
    }
   ],
   "source": [
    "#1. Generate the predictions from the model:\n",
    "pred = model(inputs)\n",
    "print(pred)"
   ]
  },
  {
   "cell_type": "code",
   "execution_count": 24,
   "id": "767b3b73",
   "metadata": {},
   "outputs": [
    {
     "name": "stdout",
     "output_type": "stream",
     "text": [
      "tensor(94872.1719, grad_fn=<DivBackward0>)\n"
     ]
    }
   ],
   "source": [
    "#2. Calculate the loss:\n",
    "loss = mse(pred, targets)\n",
    "print(loss)"
   ]
  },
  {
   "cell_type": "code",
   "execution_count": 25,
   "id": "0894d169",
   "metadata": {},
   "outputs": [
    {
     "name": "stdout",
     "output_type": "stream",
     "text": [
      "tensor([[-21974.2617, -25234.4082, -15236.5332],\n",
      "        [ 28459.9746,  28885.6016,  18207.4258]])\n",
      "tensor([-264.7215,  333.5920])\n"
     ]
    }
   ],
   "source": [
    "#3. Compute the gradient:\n",
    "loss.backward()\n",
    "print(wt.grad)\n",
    "print(bi.grad)"
   ]
  },
  {
   "cell_type": "code",
   "execution_count": 26,
   "id": "53e2dac1",
   "metadata": {},
   "outputs": [],
   "source": [
    "#4. Adjust weights and reset gradients:\n",
    "with torch.no_grad():\n",
    "    wt -= wt.grad * 1e-5\n",
    "    bi -= bi.grad * 1e-5\n",
    "    wt.grad.zero_()\n",
    "    bi.grad.zero_()"
   ]
  },
  {
   "cell_type": "code",
   "execution_count": 27,
   "id": "55343cef",
   "metadata": {},
   "outputs": [
    {
     "name": "stdout",
     "output_type": "stream",
     "text": [
      "tensor([[-0.0731, -1.3268, -0.3780],\n",
      "        [ 2.2891,  0.9550,  1.6292]], requires_grad=True)\n",
      "tensor([0.2283, 3.3539], requires_grad=True)\n"
     ]
    }
   ],
   "source": [
    "print(wt)\n",
    "print(bi)"
   ]
  },
  {
   "cell_type": "code",
   "execution_count": 28,
   "id": "b27094e2",
   "metadata": {},
   "outputs": [
    {
     "name": "stdout",
     "output_type": "stream",
     "text": [
      "tensor(64571.5859, grad_fn=<DivBackward0>)\n"
     ]
    }
   ],
   "source": [
    "pred = model(inputs)\n",
    "loss = mse(pred, targets)\n",
    "print(loss)"
   ]
  },
  {
   "cell_type": "code",
   "execution_count": 35,
   "id": "8c87ff42",
   "metadata": {},
   "outputs": [],
   "source": [
    "#Train for 100 epochs:\n",
    "for i in range(100):\n",
    "    pred = model(inputs)\n",
    "    loss = mse(pred, targets)\n",
    "    loss.backward()\n",
    "    with torch.no_grad():\n",
    "        wt -=wt.grad * 1e-5\n",
    "        bi -=bi.grad * 1e-5\n",
    "        wt.grad.zero_()\n",
    "        bi.grad.zero_()\n",
    "        "
   ]
  },
  {
   "cell_type": "code",
   "execution_count": 36,
   "id": "f81ab64f",
   "metadata": {},
   "outputs": [
    {
     "name": "stdout",
     "output_type": "stream",
     "text": [
      "tensor(14.6036, grad_fn=<DivBackward0>)\n"
     ]
    }
   ],
   "source": [
    "#Again calculate the loss:\n",
    "pred = model(inputs)\n",
    "loss = mse(pred, targets)\n",
    "print(loss)"
   ]
  },
  {
   "cell_type": "code",
   "execution_count": 37,
   "id": "77e3b779",
   "metadata": {},
   "outputs": [
    {
     "name": "stdout",
     "output_type": "stream",
     "text": [
      "tensor([[ 58.4351,  71.9630],\n",
      "        [ 81.8040, 101.4033],\n",
      "        [117.5685, 128.6426],\n",
      "        [ 28.1102,  43.3527],\n",
      "        [ 97.1635, 117.3715]], grad_fn=<AddBackward0>)\n"
     ]
    }
   ],
   "source": [
    "#Predictions:\n",
    "print(pred)"
   ]
  },
  {
   "cell_type": "code",
   "execution_count": 38,
   "id": "5defc3b6",
   "metadata": {},
   "outputs": [
    {
     "name": "stdout",
     "output_type": "stream",
     "text": [
      "tensor([[ 56.,  70.],\n",
      "        [ 81., 101.],\n",
      "        [119., 133.],\n",
      "        [ 22.,  37.],\n",
      "        [103., 119.]])\n"
     ]
    }
   ],
   "source": [
    "print(targets)"
   ]
  },
  {
   "cell_type": "markdown",
   "id": "8cd1790d",
   "metadata": {},
   "source": [
    "\n",
    "# Linear Regression Using Pytorch builtin Functions:"
   ]
  },
  {
   "cell_type": "code",
   "execution_count": 40,
   "id": "f4a25aa0",
   "metadata": {},
   "outputs": [],
   "source": [
    "import torch.nn as nn"
   ]
  },
  {
   "cell_type": "code",
   "execution_count": 42,
   "id": "26367ad1",
   "metadata": {},
   "outputs": [],
   "source": [
    "# Input: Temperature, Rainfall and Humidity\n",
    "\n",
    "inputs = np.array([[73, 67, 43], [91, 88, 64], [87, 134, 58],\n",
    "                   [102, 43, 37], [69, 96, 70], [73, 67, 43],\n",
    "                  [91, 88, 64], [87, 134, 58], [102, 43, 47],\n",
    "                  [69, 96, 70], [73, 67, 43], [91, 88, 64],\n",
    "                  [87, 134, 58], [102, 43, 47], [69, 96, 70]], dtype = 'float32')\n",
    "\n",
    "#Targets: Apples and Oranges:\n",
    "\n",
    "targets = np.array([[56, 70],[81, 101],[119, 133],\n",
    "                   [22, 37], [103, 119], [56, 70],\n",
    "                   [81, 101],[119, 133], [22, 37],\n",
    "                   [103, 119], [56, 70], [81, 101],\n",
    "                   [119, 133], [22, 37],[103, 119]], dtype='float32')\n",
    "\n",
    "inputs = torch.from_numpy(inputs)\n",
    "targets = torch.from_numpy(targets)"
   ]
  },
  {
   "cell_type": "code",
   "execution_count": 43,
   "id": "8c7a515c",
   "metadata": {},
   "outputs": [
    {
     "data": {
      "text/plain": [
       "tensor([[ 73.,  67.,  43.],\n",
       "        [ 91.,  88.,  64.],\n",
       "        [ 87., 134.,  58.],\n",
       "        [102.,  43.,  37.],\n",
       "        [ 69.,  96.,  70.],\n",
       "        [ 73.,  67.,  43.],\n",
       "        [ 91.,  88.,  64.],\n",
       "        [ 87., 134.,  58.],\n",
       "        [102.,  43.,  47.],\n",
       "        [ 69.,  96.,  70.],\n",
       "        [ 73.,  67.,  43.],\n",
       "        [ 91.,  88.,  64.],\n",
       "        [ 87., 134.,  58.],\n",
       "        [102.,  43.,  47.],\n",
       "        [ 69.,  96.,  70.]])"
      ]
     },
     "execution_count": 43,
     "metadata": {},
     "output_type": "execute_result"
    }
   ],
   "source": [
    "inputs\n"
   ]
  },
  {
   "cell_type": "markdown",
   "id": "daacc1de",
   "metadata": {},
   "source": [
    "# Dataset and Data Loader:"
   ]
  },
  {
   "cell_type": "code",
   "execution_count": 44,
   "id": "16fb422e",
   "metadata": {},
   "outputs": [],
   "source": [
    "from torch.utils.data import TensorDataset"
   ]
  },
  {
   "cell_type": "code",
   "execution_count": 45,
   "id": "a5b45b0f",
   "metadata": {},
   "outputs": [
    {
     "data": {
      "text/plain": [
       "(tensor([[ 73.,  67.,  43.],\n",
       "         [ 91.,  88.,  64.],\n",
       "         [ 87., 134.,  58.]]),\n",
       " tensor([[ 56.,  70.],\n",
       "         [ 81., 101.],\n",
       "         [119., 133.]]))"
      ]
     },
     "execution_count": 45,
     "metadata": {},
     "output_type": "execute_result"
    }
   ],
   "source": [
    "#Define Dataset:\n",
    "\n",
    "train_ds = TensorDataset(inputs, targets)\n",
    "train_ds[0:3]"
   ]
  },
  {
   "cell_type": "code",
   "execution_count": 46,
   "id": "3124928c",
   "metadata": {},
   "outputs": [],
   "source": [
    "from torch.utils.data import DataLoader"
   ]
  },
  {
   "cell_type": "code",
   "execution_count": 47,
   "id": "fdd8cd08",
   "metadata": {},
   "outputs": [],
   "source": [
    "#Define Data Loader:\n",
    "batch_size = 5\n",
    "train_dl = DataLoader(train_ds, batch_size, shuffle=True)"
   ]
  },
  {
   "cell_type": "code",
   "execution_count": 48,
   "id": "c40ac72c",
   "metadata": {},
   "outputs": [
    {
     "name": "stdout",
     "output_type": "stream",
     "text": [
      "batch:\n",
      "tensor([[ 69.,  96.,  70.],\n",
      "        [ 91.,  88.,  64.],\n",
      "        [102.,  43.,  47.],\n",
      "        [ 91.,  88.,  64.],\n",
      "        [ 73.,  67.,  43.]])\n",
      "tensor([[103., 119.],\n",
      "        [ 81., 101.],\n",
      "        [ 22.,  37.],\n",
      "        [ 81., 101.],\n",
      "        [ 56.,  70.]])\n",
      "batch:\n",
      "tensor([[ 69.,  96.,  70.],\n",
      "        [ 91.,  88.,  64.],\n",
      "        [ 87., 134.,  58.],\n",
      "        [ 73.,  67.,  43.],\n",
      "        [ 87., 134.,  58.]])\n",
      "tensor([[103., 119.],\n",
      "        [ 81., 101.],\n",
      "        [119., 133.],\n",
      "        [ 56.,  70.],\n",
      "        [119., 133.]])\n",
      "batch:\n",
      "tensor([[ 87., 134.,  58.],\n",
      "        [102.,  43.,  47.],\n",
      "        [ 69.,  96.,  70.],\n",
      "        [102.,  43.,  37.],\n",
      "        [ 73.,  67.,  43.]])\n",
      "tensor([[119., 133.],\n",
      "        [ 22.,  37.],\n",
      "        [103., 119.],\n",
      "        [ 22.,  37.],\n",
      "        [ 56.,  70.]])\n"
     ]
    }
   ],
   "source": [
    "for xb, yb in train_dl:\n",
    "    print('batch:')\n",
    "    print(xb)\n",
    "    print(yb)"
   ]
  },
  {
   "cell_type": "code",
   "execution_count": 49,
   "id": "a386022e",
   "metadata": {},
   "outputs": [
    {
     "name": "stdout",
     "output_type": "stream",
     "text": [
      "Parameter containing:\n",
      "tensor([[-0.4887,  0.4568, -0.0205],\n",
      "        [-0.2202,  0.2933,  0.5738]], requires_grad=True)\n",
      "Parameter containing:\n",
      "tensor([-0.4486, -0.1148], requires_grad=True)\n"
     ]
    }
   ],
   "source": [
    "#Define Model:\n",
    "model = nn.Linear(3, 2)\n",
    "print(model.weight)\n",
    "print(model.bias)\n"
   ]
  },
  {
   "cell_type": "code",
   "execution_count": 51,
   "id": "a6e2402e",
   "metadata": {},
   "outputs": [
    {
     "data": {
      "text/plain": [
       "[Parameter containing:\n",
       " tensor([[-0.4887,  0.4568, -0.0205],\n",
       "         [-0.2202,  0.2933,  0.5738]], requires_grad=True),\n",
       " Parameter containing:\n",
       " tensor([-0.4486, -0.1148], requires_grad=True)]"
      ]
     },
     "execution_count": 51,
     "metadata": {},
     "output_type": "execute_result"
    }
   ],
   "source": [
    "#Parameters:\n",
    "list(model.parameters())"
   ]
  },
  {
   "cell_type": "code",
   "execution_count": 52,
   "id": "bb0ea3ed",
   "metadata": {},
   "outputs": [
    {
     "data": {
      "text/plain": [
       "tensor([[ -6.3938,  28.1338],\n",
       "        [ -6.0261,  42.3786],\n",
       "        [ 17.0646,  53.3090],\n",
       "        [-31.4057,  11.2659],\n",
       "        [  8.2562,  53.0121],\n",
       "        [ -6.3938,  28.1338],\n",
       "        [ -6.0261,  42.3786],\n",
       "        [ 17.0646,  53.3090],\n",
       "        [-31.6102,  17.0036],\n",
       "        [  8.2562,  53.0121],\n",
       "        [ -6.3938,  28.1338],\n",
       "        [ -6.0261,  42.3786],\n",
       "        [ 17.0646,  53.3090],\n",
       "        [-31.6102,  17.0036],\n",
       "        [  8.2562,  53.0121]], grad_fn=<AddmmBackward0>)"
      ]
     },
     "execution_count": 52,
     "metadata": {},
     "output_type": "execute_result"
    }
   ],
   "source": [
    "#Generate Predictions:\n",
    "pred = model(inputs)\n",
    "pred"
   ]
  },
  {
   "cell_type": "markdown",
   "id": "c275e9f7",
   "metadata": {},
   "source": [
    "# Loss Function:"
   ]
  },
  {
   "cell_type": "code",
   "execution_count": 53,
   "id": "93c06bb0",
   "metadata": {},
   "outputs": [],
   "source": [
    "#Import nn.Functional\n",
    "import torch.nn.functional as F"
   ]
  },
  {
   "cell_type": "code",
   "execution_count": 54,
   "id": "d799d3ef",
   "metadata": {},
   "outputs": [],
   "source": [
    "#Define loss function:\n",
    "loss_fn = F.mse_loss"
   ]
  },
  {
   "cell_type": "code",
   "execution_count": 58,
   "id": "e1a95c29",
   "metadata": {},
   "outputs": [
    {
     "name": "stdout",
     "output_type": "stream",
     "text": [
      "tensor(5008.2104, grad_fn=<MseLossBackward0>)\n"
     ]
    }
   ],
   "source": [
    "loss = loss_fn(pred, targets)\n",
    "print(loss)"
   ]
  },
  {
   "cell_type": "markdown",
   "id": "c1c0ac04",
   "metadata": {},
   "source": [
    "# Optimizer (Stochastic Gradient Descent SDG):"
   ]
  },
  {
   "cell_type": "code",
   "execution_count": 59,
   "id": "2ec53eed",
   "metadata": {},
   "outputs": [],
   "source": [
    "#Define optimizer:\n",
    "\n",
    "opt = torch.optim.SGD(model.parameters(), lr = 1e-5)"
   ]
  },
  {
   "cell_type": "markdown",
   "id": "f34a6049",
   "metadata": {},
   "source": [
    "# Train the model:"
   ]
  },
  {
   "cell_type": "code",
   "execution_count": 66,
   "id": "faeef581",
   "metadata": {},
   "outputs": [],
   "source": [
    "#Utility function to train the model:\n",
    "def fit(num_epochs, model, loss_fn, opt, train_dl):\n",
    "    #Repeat for given number of epochs:\n",
    "    for epoch in range(num_epochs):\n",
    "        \n",
    "        #Train with batches of data:\n",
    "        for xb, yb in train_dl:\n",
    "            \n",
    "            #Generate Predictions:\n",
    "            pred = model(xb)\n",
    "            \n",
    "            #Calculate loss:\n",
    "            loss = loss_fn(pred, yb)\n",
    "            \n",
    "            #Compute Gradients:\n",
    "            loss.backward()\n",
    "            \n",
    "            #Update Parameters using Gradient:\n",
    "            opt.step()\n",
    "            \n",
    "            #Reset the gradient to zero:\n",
    "            opt.zero_grad()\n",
    "            \n",
    "        #Print the progress:\n",
    "        if (epoch + 1) % 10 == 0:\n",
    "            print('Epoch [{}/{}], loss: {:.4f}'.format(epoch + 1, num_epochs, loss.item()))\n",
    "    "
   ]
  },
  {
   "cell_type": "code",
   "execution_count": 67,
   "id": "3adebdac",
   "metadata": {},
   "outputs": [
    {
     "name": "stdout",
     "output_type": "stream",
     "text": [
      "Epoch [10/100], loss: 18.4189\n",
      "Epoch [20/100], loss: 49.5084\n",
      "Epoch [30/100], loss: 22.6867\n",
      "Epoch [40/100], loss: 19.7489\n",
      "Epoch [50/100], loss: 28.0836\n",
      "Epoch [60/100], loss: 22.8048\n",
      "Epoch [70/100], loss: 11.5268\n",
      "Epoch [80/100], loss: 13.5247\n",
      "Epoch [90/100], loss: 13.5487\n",
      "Epoch [100/100], loss: 12.9098\n"
     ]
    }
   ],
   "source": [
    "fit(100, model, loss_fn, opt, train_dl)"
   ]
  },
  {
   "cell_type": "code",
   "execution_count": 68,
   "id": "b2eafa97",
   "metadata": {},
   "outputs": [],
   "source": [
    "#Generate Predictions:\n",
    "pred = model(inputs)"
   ]
  },
  {
   "cell_type": "code",
   "execution_count": 69,
   "id": "bc78a43f",
   "metadata": {},
   "outputs": [
    {
     "data": {
      "text/plain": [
       "tensor([[ 57.0275,  69.4848],\n",
       "        [ 79.4235,  98.7270],\n",
       "        [123.5042, 134.7186],\n",
       "        [ 21.8236,  35.3580],\n",
       "        [ 96.6833, 116.9905],\n",
       "        [ 57.0275,  69.4848],\n",
       "        [ 79.4235,  98.7270],\n",
       "        [123.5042, 134.7186],\n",
       "        [ 25.5208,  43.2746],\n",
       "        [ 96.6833, 116.9905],\n",
       "        [ 57.0275,  69.4848],\n",
       "        [ 79.4235,  98.7270],\n",
       "        [123.5042, 134.7186],\n",
       "        [ 25.5208,  43.2746],\n",
       "        [ 96.6833, 116.9905]], grad_fn=<AddmmBackward0>)"
      ]
     },
     "execution_count": 69,
     "metadata": {},
     "output_type": "execute_result"
    }
   ],
   "source": [
    "pred"
   ]
  },
  {
   "cell_type": "code",
   "execution_count": 70,
   "id": "16c23ca3",
   "metadata": {},
   "outputs": [
    {
     "data": {
      "text/plain": [
       "tensor([[ 56.,  70.],\n",
       "        [ 81., 101.],\n",
       "        [119., 133.],\n",
       "        [ 22.,  37.],\n",
       "        [103., 119.],\n",
       "        [ 56.,  70.],\n",
       "        [ 81., 101.],\n",
       "        [119., 133.],\n",
       "        [ 22.,  37.],\n",
       "        [103., 119.],\n",
       "        [ 56.,  70.],\n",
       "        [ 81., 101.],\n",
       "        [119., 133.],\n",
       "        [ 22.,  37.],\n",
       "        [103., 119.]])"
      ]
     },
     "execution_count": 70,
     "metadata": {},
     "output_type": "execute_result"
    }
   ],
   "source": [
    "targets"
   ]
  },
  {
   "cell_type": "code",
   "execution_count": null,
   "id": "8b139175",
   "metadata": {},
   "outputs": [],
   "source": []
  }
 ],
 "metadata": {
  "kernelspec": {
   "display_name": "Python 3 (ipykernel)",
   "language": "python",
   "name": "python3"
  },
  "language_info": {
   "codemirror_mode": {
    "name": "ipython",
    "version": 3
   },
   "file_extension": ".py",
   "mimetype": "text/x-python",
   "name": "python",
   "nbconvert_exporter": "python",
   "pygments_lexer": "ipython3",
   "version": "3.9.13"
  }
 },
 "nbformat": 4,
 "nbformat_minor": 5
}
